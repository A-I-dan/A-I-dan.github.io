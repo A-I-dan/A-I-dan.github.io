{
 "cells": [
  {
   "cell_type": "markdown",
   "metadata": {},
   "source": [
    "---\n",
    "layout:     post\n",
    "title:      \"A Brief Introduction to Unsupervised Learning\"\n",
    "date:       2019-03-30 12:00:00\n",
    "author:     \"A.I. Dan\"\n",
    "---"
   ]
  },
  {
   "cell_type": "markdown",
   "metadata": {},
   "source": [
    "# A Brief Introduction to Unsupervised Learning\n",
    "\n",
    "<b>Summary:</b> In this post I will discuss the details of <b>unsupervised</b> machine learning and its applications. Code examples will be shown to demonstrate certain techniques.\n",
    "\n",
    "Unsupervised learning is a branch of machine learning that is used to manifest underlying patterns in data. Unsupervised learning does not use labeled data, but instead focuses on the data's features. Labeled training data is data where each input is accompanied by it's correlated output. When using unsupervised learning, we are not concerned with the targeted outputs because making predictions is not the desired outcome of unsupervised learning algorithms. Supervised learning is concerned with labeled data in order to make predictions, but unsupervised is not.\n",
    "\n",
    "<img src='/Users/SmashBros/Downloads/unsupervsied post.png'>\n",
    "![](/Users/SmashBros/Downloads/unsupervsied post.png)\n",
    "\n",
    "The goal of unsupervised learning algorithms is to analyze data and find important features. Unsupervised learning will often find subgroups or hidden patterns within the dataset that a human observer may not pick up on. \n",
    "\n",
    "<hr>"
   ]
  },
  {
   "cell_type": "markdown",
   "metadata": {},
   "source": [
    "\n",
    "### Clustering\n",
    "\n",
    "Clustering aims to discover \"clusters\", or subgroups within the data. Clusters will contain data points that are similar to each other.  Clustering helps find underlying patterns within the data that may not be noticeable to a human observer.\n"
   ]
  },
  {
   "cell_type": "markdown",
   "metadata": {},
   "source": [
    "### K-Means Clustering\n",
    "\n",
    "In k-means clustering, the goal is to partition the data into a predetermined value for *K*, the number of clusters. Each data point will fall into only one cluster of the *K* clusters, and therefore the clusters will not overlap.  "
   ]
  },
  {
   "cell_type": "markdown",
   "metadata": {},
   "source": [
    "### Hierarchical Clustering\n",
    "\n",
    "Unlike k-means clustering, with hierarchical clustering, the number of clusters in unknown beforehand."
   ]
  },
  {
   "cell_type": "code",
   "execution_count": null,
   "metadata": {},
   "outputs": [],
   "source": []
  }
 ],
 "metadata": {
  "kernelspec": {
   "display_name": "Python 3",
   "language": "python",
   "name": "python3"
  },
  "language_info": {
   "codemirror_mode": {
    "name": "ipython",
    "version": 3
   },
   "file_extension": ".py",
   "mimetype": "text/x-python",
   "name": "python",
   "nbconvert_exporter": "python",
   "pygments_lexer": "ipython3",
   "version": "3.6.4"
  }
 },
 "nbformat": 4,
 "nbformat_minor": 2
}
