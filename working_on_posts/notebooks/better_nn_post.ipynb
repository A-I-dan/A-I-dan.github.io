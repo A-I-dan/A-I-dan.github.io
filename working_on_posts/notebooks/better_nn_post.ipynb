{
 "cells": [
  {
   "cell_type": "code",
   "execution_count": 1,
   "metadata": {},
   "outputs": [],
   "source": [
    "import numpy as np\n",
    "import matplotlib.pyplot as plt"
   ]
  },
  {
   "cell_type": "code",
   "execution_count": 2,
   "metadata": {},
   "outputs": [],
   "source": [
    "X = np.array([ [0, 0, 1],\n",
    "               [0, 1, 1],\n",
    "               [1, 1, 0],\n",
    "               [1, 0, 0] ])\n",
    "\n",
    "y = np.array([ [0],\n",
    "               [0],\n",
    "               [1],\n",
    "               [1] ])\n",
    "\n",
    "w = np.array([ [.50],\n",
    "               [.50],\n",
    "               [.50] ])"
   ]
  },
  {
   "cell_type": "code",
   "execution_count": 14,
   "metadata": {},
   "outputs": [],
   "source": [
    "class NeuralNetwork:\n",
    "    \n",
    "    def __init__(self, inputs, outputs, weights):\n",
    "        self.inputs  = inputs\n",
    "        self.outputs = outputs\n",
    "        self.weights = weights\n",
    "    \n",
    "    def sigmoid(self, x, deriv=False):\n",
    "        if deriv == True:\n",
    "            return x * (1 - x)\n",
    "        return 1 / ( 1 + np.exp(-x))\n",
    "    \n",
    "    def train(self, epochs):\n",
    "        print('Before Training:')\n",
    "        print('Weights: \\n', self.weights)\n",
    "        \n",
    "        for epoch in range(epochs):\n",
    "            hidden_layer = self.sigmoid(np.dot(self.inputs, self.weights))\n",
    "            error = self.outputs - hidden_layer\n",
    "            delta = error * self.sigmoid(hidden_layer, True)\n",
    "            self.weights += np.dot(self.inputs.T, delta)\n",
    "            \n",
    "            if epoch % 2000 == 0:\n",
    "                print('\\nEpoch: ', epoch)\n",
    "                print('Hidden Layer: \\n', hidden_layer)\n",
    "                print('Error: \\n', error)\n",
    "                print('Weights: \\n', self.weights)\n",
    "            \n",
    "        return hidden_layer, error, self.weights\n",
    "    \n",
    "    def predict(self, new_input):\n",
    "        prediction = self.sigmoid(np.dot(new_input, self.weights))\n",
    "        return prediction"
   ]
  },
  {
   "cell_type": "code",
   "execution_count": 17,
   "metadata": {},
   "outputs": [],
   "source": [
    "NN = NeuralNetwork(X, y)"
   ]
  },
  {
   "cell_type": "code",
   "execution_count": 18,
   "metadata": {
    "scrolled": false
   },
   "outputs": [
    {
     "name": "stdout",
     "output_type": "stream",
     "text": [
      "Before Training:\n",
      "Weights: \n",
      " [[0.5]\n",
      " [0.5]\n",
      " [0.5]]\n",
      "\n",
      "Epoch:  0\n",
      "Hidden Layer: \n",
      " [[0.62245933]\n",
      " [0.73105858]\n",
      " [0.73105858]\n",
      " [0.62245933]]\n",
      "Error: \n",
      " [[-0.62245933]\n",
      " [-0.73105858]\n",
      " [ 0.26894142]\n",
      " [ 0.37754067]]\n",
      "Weights: \n",
      " [[0.64160055]\n",
      " [0.40914225]\n",
      " [0.20998491]]\n",
      "\n",
      "Epoch:  2000\n",
      "Hidden Layer: \n",
      " [[0.01153813]\n",
      " [0.01139183]\n",
      " [0.98852282]\n",
      " [0.98866836]]\n",
      "Error: \n",
      " [[-0.01153813]\n",
      " [-0.01139183]\n",
      " [ 0.01147718]\n",
      " [ 0.01133164]]\n",
      "Weights: \n",
      " [[ 4.46901753]\n",
      " [-0.01290754]\n",
      " [-4.45075236]]\n",
      "\n",
      "Epoch:  4000\n",
      "Hidden Layer: \n",
      " [[0.00809161]\n",
      " [0.00800769]\n",
      " [0.99194328]\n",
      " [0.99202684]]\n",
      "Error: \n",
      " [[-0.00809161]\n",
      " [-0.00800769]\n",
      " [ 0.00805672]\n",
      " [ 0.00797316]]\n",
      "Weights: \n",
      " [[ 4.82379663]\n",
      " [-0.01050868]\n",
      " [-4.80893186]]\n",
      "\n",
      "Epoch:  6000\n",
      "Hidden Layer: \n",
      " [[0.00658207]\n",
      " [0.0065214 ]\n",
      " [0.99344314]\n",
      " [0.99350358]]\n",
      "Error: \n",
      " [[-0.00658207]\n",
      " [-0.0065214 ]\n",
      " [ 0.00655686]\n",
      " [ 0.00649642]]\n",
      "Weights: \n",
      " [[ 5.03007114]\n",
      " [-0.00932079]\n",
      " [-5.01688799]]\n",
      "\n",
      "Epoch:  8000\n",
      "Hidden Layer: \n",
      " [[0.00568732]\n",
      " [0.00563911]\n",
      " [0.99433271]\n",
      " [0.99438075]]\n",
      "Error: \n",
      " [[-0.00568732]\n",
      " [-0.00563911]\n",
      " [ 0.00566729]\n",
      " [ 0.00561925]]\n",
      "Weights: \n",
      " [[ 5.17598532]\n",
      " [-0.00856139]\n",
      " [-5.16387677]]\n"
     ]
    }
   ],
   "source": [
    "hidden_layer, error, weights = NN.train(epochs=10000)"
   ]
  },
  {
   "cell_type": "code",
   "execution_count": 19,
   "metadata": {},
   "outputs": [
    {
     "data": {
      "text/plain": [
       "array([[0.50283419]])"
      ]
     },
     "execution_count": 19,
     "metadata": {},
     "output_type": "execute_result"
    }
   ],
   "source": [
    "NN.predict(np.array([[1, 0, 1]]))"
   ]
  },
  {
   "cell_type": "code",
   "execution_count": null,
   "metadata": {},
   "outputs": [],
   "source": [
    "q = np.array([[ 5.17598532]\n",
    "              [-0.00856139]\n",
    "              [-5.16387677]])\n",
    "\n",
    "new_input = np.array([[1, 0, 1]])\n",
    "\n",
    "sigmoid"
   ]
  }
 ],
 "metadata": {
  "kernelspec": {
   "display_name": "Python 3",
   "language": "python",
   "name": "python3"
  },
  "language_info": {
   "codemirror_mode": {
    "name": "ipython",
    "version": 3
   },
   "file_extension": ".py",
   "mimetype": "text/x-python",
   "name": "python",
   "nbconvert_exporter": "python",
   "pygments_lexer": "ipython3",
   "version": "3.6.4"
  }
 },
 "nbformat": 4,
 "nbformat_minor": 2
}
